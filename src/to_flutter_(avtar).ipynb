{
  "nbformat": 4,
  "nbformat_minor": 0,
  "metadata": {
    "colab": {
      "provenance": []
    },
    "kernelspec": {
      "name": "python3",
      "display_name": "Python 3"
    },
    "language_info": {
      "name": "python"
    }
  },
  "cells": [
    {
      "cell_type": "markdown",
      "source": [
        "✅ الهدف:\n",
        "تطبيق Flutter فيه:\n",
        "\n",
        "🎤 زر تسجيل صوتي (عربي)\n",
        "\n",
        "📝 التعرف على النص\n",
        "\n",
        "🔤 استخراج الكلمات\n",
        "\n",
        "📼 تشغيل فيديوهات لغة الإشارة (من جهاز المستخدم)\n",
        "\n",
        "بدون سيرفر - بدون اتصال إنترنت"
      ],
      "metadata": {
        "id": "ZwWorUIp4KQy"
      }
    },
    {
      "cell_type": "markdown",
      "source": [
        "🧱 1. إعداد هيكل الملفات\n",
        "في مشروع Flutter، أنشئ المجلدات التالية:\n",
        "\n",
        "\n",
        "#videos جميع الفيديوهات ضعها في ملف"
      ],
      "metadata": {
        "id": "FyAJ_Osf4PF5"
      }
    },
    {
      "cell_type": "code",
      "execution_count": null,
      "metadata": {
        "id": "BorB5Nec4Aw9"
      },
      "outputs": [],
      "source": [
        "my_flutter_app/\n",
        "├── assets/\n",
        "│   └── videos/       ✅ ضَع هنا جميع ملفات الفيديو mp4\n",
        "│       ├── Hello.mp4\n",
        "│       ├── Welcome.mp4\n",
        "│       └── ...\n",
        "├── lib/\n",
        "│   └── main.dart     ✅ سنضيف الكود هنا\n",
        "├── pubspec.yaml\n"
      ]
    },
    {
      "cell_type": "markdown",
      "source": [
        "🛠️ 2. إعداد pubspec.yaml\n",
        "\n",
        "\n",
        "افتح الملف وأضف التالي:"
      ],
      "metadata": {
        "id": "2LdoLrkN4TlD"
      }
    },
    {
      "cell_type": "code",
      "source": [
        "dependencies:\n",
        "  flutter:\n",
        "    sdk: flutter\n",
        "  speech_to_text: ^5.10.0\n",
        "  video_player: ^2.5.1\n",
        "\n",
        "flutter:\n",
        "  assets:\n",
        "    - assets/videos/\n"
      ],
      "metadata": {
        "id": "GbIYKnRd4WNZ"
      },
      "execution_count": null,
      "outputs": []
    },
    {
      "cell_type": "markdown",
      "source": [
        "ثم شغّل:"
      ],
      "metadata": {
        "id": "LP3ylTXQ4a4g"
      }
    },
    {
      "cell_type": "code",
      "source": [
        "flutter pub get\n"
      ],
      "metadata": {
        "id": "q7Fag6iw4diO"
      },
      "execution_count": null,
      "outputs": []
    },
    {
      "cell_type": "markdown",
      "source": [
        "🎯 3. كود main.dart\n",
        "\n",
        "\n",
        "انسخ هذا الكود إلى lib/main.dart:"
      ],
      "metadata": {
        "id": "A2gBc2n-4fN0"
      }
    },
    {
      "cell_type": "code",
      "source": [
        "import 'package:flutter/material.dart';\n",
        "import 'package:speech_to_text/speech_to_text.dart' as stt;\n",
        "import 'package:video_player/video_player.dart';\n",
        "\n",
        "void main() {\n",
        "  runApp(SignLangApp());\n",
        "}\n",
        "\n",
        "class SignLangApp extends StatelessWidget {\n",
        "  @override\n",
        "  Widget build(BuildContext context) {\n",
        "    return MaterialApp(\n",
        "      title: 'Sign Language App',\n",
        "      theme: ThemeData.dark(),\n",
        "      home: SignHomePage(),\n",
        "    );\n",
        "  }\n",
        "}\n",
        "\n",
        "class SignHomePage extends StatefulWidget {\n",
        "  @override\n",
        "  _SignHomePageState createState() => _SignHomePageState();\n",
        "}\n",
        "\n",
        "class _SignHomePageState extends State<SignHomePage> {\n",
        "  final stt.SpeechToText _speech = stt.SpeechToText();\n",
        "  bool _isListening = false;\n",
        "  String _recognizedText = '';\n",
        "  List<String> videoWords = [];\n",
        "  int currentIndex = 0;\n",
        "  VideoPlayerController? _videoController;\n",
        "\n",
        "  void _listenAndConvert() async {\n",
        "    bool available = await _speech.initialize();\n",
        "    if (available) {\n",
        "      setState(() => _isListening = true);\n",
        "      _speech.listen(\n",
        "        localeId: 'ar_SA',\n",
        "        onResult: (val) async {\n",
        "          if (val.finalResult) {\n",
        "            setState(() {\n",
        "              _recognizedText = val.recognizedWords;\n",
        "              _isListening = false;\n",
        "            });\n",
        "\n",
        "            final words = _extractWords(_recognizedText);\n",
        "            setState(() {\n",
        "              videoWords = words;\n",
        "              currentIndex = 0;\n",
        "            });\n",
        "\n",
        "            if (videoWords.isNotEmpty) {\n",
        "              await _playVideo(videoWords[0]);\n",
        "            }\n",
        "          }\n",
        "        },\n",
        "      );\n",
        "    }\n",
        "  }\n",
        "\n",
        "  List<String> _extractWords(String text) {\n",
        "    final cleanText = text.replaceAll(RegExp(r'[^\\w\\s]'), '');\n",
        "    return cleanText.split(' ').where((w) => w.trim().isNotEmpty).toList();\n",
        "  }\n",
        "\n",
        "  Future<void> _playVideo(String word) async {\n",
        "    _videoController?.dispose();\n",
        "    final path = 'assets/videos/${word[0].toUpperCase()}${word.substring(1)}.mp4';\n",
        "\n",
        "    _videoController = VideoPlayerController.asset(path);\n",
        "\n",
        "    try {\n",
        "      await _videoController!.initialize();\n",
        "      setState(() {});\n",
        "      _videoController!.play();\n",
        "\n",
        "      _videoController!.addListener(() async {\n",
        "        if (_videoController!.value.position >= _videoController!.value.duration &&\n",
        "            currentIndex < videoWords.length - 1) {\n",
        "          currentIndex++;\n",
        "          await _playVideo(videoWords[currentIndex]);\n",
        "        }\n",
        "      });\n",
        "    } catch (e) {\n",
        "      print('❌ Video not found: $path');\n",
        "      if (currentIndex < videoWords.length - 1) {\n",
        "        currentIndex++;\n",
        "        await _playVideo(videoWords[currentIndex]);\n",
        "      }\n",
        "    }\n",
        "  }\n",
        "\n",
        "  @override\n",
        "  void dispose() {\n",
        "    _videoController?.dispose();\n",
        "    super.dispose();\n",
        "  }\n",
        "\n",
        "  @override\n",
        "  Widget build(BuildContext context) {\n",
        "    return Scaffold(\n",
        "      appBar: AppBar(title: Text('🎤 Text to Sign Language')),\n",
        "      body: Padding(\n",
        "        padding: const EdgeInsets.all(16.0),\n",
        "        child: Column(\n",
        "          children: [\n",
        "            Text(\n",
        "              _recognizedText.isEmpty ? 'اضغط المايك وابدأ التحدث' : _recognizedText,\n",
        "              textAlign: TextAlign.center,\n",
        "              style: TextStyle(fontSize: 20),\n",
        "            ),\n",
        "            SizedBox(height: 20),\n",
        "            ElevatedButton.icon(\n",
        "              icon: Icon(Icons.mic),\n",
        "              label: Text(_isListening ? 'يسجّل...' : 'اضغط للتسجيل'),\n",
        "              onPressed: _isListening ? null : _listenAndConvert,\n",
        "              style: ElevatedButton.styleFrom(\n",
        "                backgroundColor: Colors.amber,\n",
        "                foregroundColor: Colors.black,\n",
        "              ),\n",
        "            ),\n",
        "            SizedBox(height: 20),\n",
        "            _videoController != null && _videoController!.value.isInitialized\n",
        "                ? AspectRatio(\n",
        "                    aspectRatio: _videoController!.value.aspectRatio,\n",
        "                    child: VideoPlayer(_videoController!),\n",
        "                  )\n",
        "                : Container(\n",
        "                    height: 200,\n",
        "                    color: Colors.black12,\n",
        "                    child: Center(child: Text('لا يوجد فيديو')),\n",
        "                  ),\n",
        "          ],\n",
        "        ),\n",
        "      ),\n",
        "    );\n",
        "  }\n",
        "}\n"
      ],
      "metadata": {
        "id": "cpaLDKQp4h61"
      },
      "execution_count": null,
      "outputs": []
    },
    {
      "cell_type": "markdown",
      "source": [
        "✅ 4. تشغيل المشروع\n",
        "افتح المحاكي أو وصل جوالك\n",
        "\n",
        "ثم شغل المشروع:"
      ],
      "metadata": {
        "id": "VMSsTBp94j9t"
      }
    },
    {
      "cell_type": "code",
      "source": [
        "flutter run\n"
      ],
      "metadata": {
        "id": "j_E8Redu4pqg"
      },
      "execution_count": null,
      "outputs": []
    }
  ]
}